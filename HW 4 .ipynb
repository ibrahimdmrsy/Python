{
 "cells": [
  {
   "cell_type": "code",
   "execution_count": null,
   "id": "65ee42a9-5e5d-45f6-9b76-4cd581178a96",
   "metadata": {},
   "outputs": [],
   "source": []
  },
  {
   "cell_type": "code",
   "execution_count": 3,
   "id": "6387917a-912b-48d6-8d40-a2adbc9a4a04",
   "metadata": {},
   "outputs": [
    {
     "name": "stdout",
     "output_type": "stream",
     "text": [
      "Requirement already satisfied: numpy in c:\\users\\asus\\anaconda3\\lib\\site-packages (1.26.4)\n"
     ]
    }
   ],
   "source": [
    "!pip3 install numpy"
   ]
  },
  {
   "cell_type": "code",
   "execution_count": 4,
   "id": "f4c590fc-4118-43e6-b1a0-7e513cafe69d",
   "metadata": {},
   "outputs": [],
   "source": [
    "import pandas as pd"
   ]
  },
  {
   "cell_type": "code",
   "execution_count": 10,
   "id": "eaf99dd9-61e6-4beb-9491-19829da4ff7a",
   "metadata": {},
   "outputs": [],
   "source": [
    "stack_df= pd.read_csv('survey_results_public.csv')"
   ]
  },
  {
   "cell_type": "code",
   "execution_count": 18,
   "id": "c69c7755-80c3-466d-9cf4-58e076c2fc0c",
   "metadata": {},
   "outputs": [
    {
     "data": {
      "text/plain": [
       "65437"
      ]
     },
     "execution_count": 18,
     "metadata": {},
     "output_type": "execute_result"
    }
   ],
   "source": [
    "stack_df['ResponseId'].count()"
   ]
  },
  {
   "cell_type": "markdown",
   "id": "bd0ab65f-7feb-4028-96bb-df3fb7f058c0",
   "metadata": {},
   "source": [
    "#  1) Ankete Toplam 65437 kişi katıldı."
   ]
  },
  {
   "cell_type": "code",
   "execution_count": 35,
   "id": "c75ec200-4667-4803-8934-29c1026dd814",
   "metadata": {},
   "outputs": [
    {
     "data": {
      "text/plain": [
       "0"
      ]
     },
     "execution_count": 35,
     "metadata": {},
     "output_type": "execute_result"
    }
   ],
   "source": [
    "stack_df['ResponseId'].count()"
   ]
  },
  {
   "cell_type": "code",
   "execution_count": 111,
   "id": "8d8e499d-eb4f-4653-b047-05e188506658",
   "metadata": {},
   "outputs": [],
   "source": [
    "stack_df.dropna(inplace=True)"
   ]
  },
  {
   "cell_type": "code",
   "execution_count": 112,
   "id": "adf58f0a-4d5c-4441-a396-d8234593d9ad",
   "metadata": {},
   "outputs": [
    {
     "data": {
      "text/html": [
       "<div>\n",
       "<style scoped>\n",
       "    .dataframe tbody tr th:only-of-type {\n",
       "        vertical-align: middle;\n",
       "    }\n",
       "\n",
       "    .dataframe tbody tr th {\n",
       "        vertical-align: top;\n",
       "    }\n",
       "\n",
       "    .dataframe thead th {\n",
       "        text-align: right;\n",
       "    }\n",
       "</style>\n",
       "<table border=\"1\" class=\"dataframe\">\n",
       "  <thead>\n",
       "    <tr style=\"text-align: right;\">\n",
       "      <th></th>\n",
       "      <th>ResponseId</th>\n",
       "      <th>MainBranch</th>\n",
       "      <th>Age</th>\n",
       "      <th>Employment</th>\n",
       "      <th>RemoteWork</th>\n",
       "      <th>Check</th>\n",
       "      <th>CodingActivities</th>\n",
       "      <th>EdLevel</th>\n",
       "      <th>LearnCode</th>\n",
       "      <th>LearnCodeOnline</th>\n",
       "      <th>...</th>\n",
       "      <th>JobSatPoints_6</th>\n",
       "      <th>JobSatPoints_7</th>\n",
       "      <th>JobSatPoints_8</th>\n",
       "      <th>JobSatPoints_9</th>\n",
       "      <th>JobSatPoints_10</th>\n",
       "      <th>JobSatPoints_11</th>\n",
       "      <th>SurveyLength</th>\n",
       "      <th>SurveyEase</th>\n",
       "      <th>ConvertedCompYearly</th>\n",
       "      <th>JobSat</th>\n",
       "    </tr>\n",
       "  </thead>\n",
       "  <tbody>\n",
       "  </tbody>\n",
       "</table>\n",
       "<p>0 rows × 114 columns</p>\n",
       "</div>"
      ],
      "text/plain": [
       "Empty DataFrame\n",
       "Columns: [ResponseId, MainBranch, Age, Employment, RemoteWork, Check, CodingActivities, EdLevel, LearnCode, LearnCodeOnline, TechDoc, YearsCode, YearsCodePro, DevType, OrgSize, PurchaseInfluence, BuyNewTool, BuildvsBuy, TechEndorse, Country, Currency, CompTotal, LanguageHaveWorkedWith, LanguageWantToWorkWith, LanguageAdmired, DatabaseHaveWorkedWith, DatabaseWantToWorkWith, DatabaseAdmired, PlatformHaveWorkedWith, PlatformWantToWorkWith, PlatformAdmired, WebframeHaveWorkedWith, WebframeWantToWorkWith, WebframeAdmired, EmbeddedHaveWorkedWith, EmbeddedWantToWorkWith, EmbeddedAdmired, MiscTechHaveWorkedWith, MiscTechWantToWorkWith, MiscTechAdmired, ToolsTechHaveWorkedWith, ToolsTechWantToWorkWith, ToolsTechAdmired, NEWCollabToolsHaveWorkedWith, NEWCollabToolsWantToWorkWith, NEWCollabToolsAdmired, OpSysPersonal use, OpSysProfessional use, OfficeStackAsyncHaveWorkedWith, OfficeStackAsyncWantToWorkWith, OfficeStackAsyncAdmired, OfficeStackSyncHaveWorkedWith, OfficeStackSyncWantToWorkWith, OfficeStackSyncAdmired, AISearchDevHaveWorkedWith, AISearchDevWantToWorkWith, AISearchDevAdmired, NEWSOSites, SOVisitFreq, SOAccount, SOPartFreq, SOHow, SOComm, AISelect, AISent, AIBen, AIAcc, AIComplex, AIToolCurrently Using, AIToolInterested in Using, AIToolNot interested in Using, AINextMuch more integrated, AINextNo change, AINextMore integrated, AINextLess integrated, AINextMuch less integrated, AIThreat, AIEthics, AIChallenges, TBranch, ICorPM, WorkExp, Knowledge_1, Knowledge_2, Knowledge_3, Knowledge_4, Knowledge_5, Knowledge_6, Knowledge_7, Knowledge_8, Knowledge_9, Frequency_1, Frequency_2, Frequency_3, TimeSearching, TimeAnswering, Frustration, ProfessionalTech, ProfessionalCloud, ProfessionalQuestion, ...]\n",
       "Index: []\n",
       "\n",
       "[0 rows x 114 columns]"
      ]
     },
     "execution_count": 112,
     "metadata": {},
     "output_type": "execute_result"
    }
   ],
   "source": [
    "stack_df"
   ]
  },
  {
   "cell_type": "markdown",
   "id": "88981517-2996-4858-a465-b29b81b8eb95",
   "metadata": {},
   "source": [
    "## 2) Toplam 0 kişi hepsini cevapladı"
   ]
  },
  {
   "cell_type": "code",
   "execution_count": null,
   "id": "548bfa43-0b27-4722-b008-c7ea0ff611bf",
   "metadata": {},
   "outputs": [],
   "source": []
  },
  {
   "cell_type": "code",
   "execution_count": 113,
   "id": "61a3227d-0ccf-4ac3-858c-f83a25acd5a3",
   "metadata": {},
   "outputs": [],
   "source": [
    "stack_df= pd.read_csv('survey_results_public.csv')"
   ]
  },
  {
   "cell_type": "markdown",
   "id": "5d984a66-e54d-425a-a5b0-38e57a5cf9cc",
   "metadata": {},
   "source": [
    "## 3) WorkExp ile ilgili Merkezi Eğilim Ölçüleri"
   ]
  },
  {
   "cell_type": "code",
   "execution_count": 121,
   "id": "e1be2b51-644c-43c1-8059-7827cddbb4b2",
   "metadata": {},
   "outputs": [],
   "source": [
    "stack_df.dropna(subset ='WorkExp', inplace = True)"
   ]
  },
  {
   "cell_type": "code",
   "execution_count": 128,
   "id": "236aece8-5a69-447e-bcb1-1047e2ae0e77",
   "metadata": {},
   "outputs": [
    {
     "name": "stdout",
     "output_type": "stream",
     "text": [
      "11.46695663901814\n",
      "9.0\n",
      "0    3.0\n",
      "Name: WorkExp, dtype: float64\n"
     ]
    }
   ],
   "source": [
    "print(stack_df['WorkExp'].mean())\n",
    "print(stack_df['WorkExp'].median())\n",
    "print(stack_df['WorkExp'].mode())"
   ]
  },
  {
   "cell_type": "code",
   "execution_count": null,
   "id": "3a4039fa-2dae-439a-9914-ef85945fdab7",
   "metadata": {},
   "outputs": [],
   "source": []
  },
  {
   "cell_type": "code",
   "execution_count": 193,
   "id": "99c2d6ed-ec59-427f-a75b-5f09fe1fd083",
   "metadata": {},
   "outputs": [
    {
     "data": {
      "text/plain": [
       "ResponseId             20831\n",
       "MainBranch             20831\n",
       "Age                    20831\n",
       "Employment             20831\n",
       "RemoteWork             20831\n",
       "                       ...  \n",
       "JobSatPoints_11        11186\n",
       "SurveyLength           18352\n",
       "SurveyEase             18370\n",
       "ConvertedCompYearly     9591\n",
       "JobSat                 11103\n",
       "Length: 114, dtype: int64"
      ]
     },
     "execution_count": 193,
     "metadata": {},
     "output_type": "execute_result"
    }
   ],
   "source": [
    "stack_df[(stack_df['RemoteWork']=='Remote')].count()"
   ]
  },
  {
   "cell_type": "markdown",
   "id": "81dab8a9-3ddc-4750-bfb0-cf3a9df97a9f",
   "metadata": {},
   "source": [
    "## 4)Toplam 20831 Remote olarak çalışmakta"
   ]
  },
  {
   "cell_type": "code",
   "execution_count": 61,
   "id": "ebd7bb4f-22ec-4398-9aa7-28c0dd2be073",
   "metadata": {},
   "outputs": [
    {
     "data": {
      "text/plain": [
       "(65437, 114)"
      ]
     },
     "execution_count": 61,
     "metadata": {},
     "output_type": "execute_result"
    }
   ],
   "source": [
    "stack_df.shape"
   ]
  },
  {
   "cell_type": "code",
   "execution_count": 546,
   "id": "7427e09a-5df2-413c-85bb-cd4c47e5b75f",
   "metadata": {},
   "outputs": [
    {
     "data": {
      "text/html": [
       "<div>\n",
       "<style scoped>\n",
       "    .dataframe tbody tr th:only-of-type {\n",
       "        vertical-align: middle;\n",
       "    }\n",
       "\n",
       "    .dataframe tbody tr th {\n",
       "        vertical-align: top;\n",
       "    }\n",
       "\n",
       "    .dataframe thead th {\n",
       "        text-align: right;\n",
       "    }\n",
       "</style>\n",
       "<table border=\"1\" class=\"dataframe\">\n",
       "  <thead>\n",
       "    <tr style=\"text-align: right;\">\n",
       "      <th></th>\n",
       "      <th>ResponseId</th>\n",
       "      <th>MainBranch</th>\n",
       "      <th>Age</th>\n",
       "      <th>Employment</th>\n",
       "    </tr>\n",
       "  </thead>\n",
       "  <tbody>\n",
       "    <tr>\n",
       "      <th>72</th>\n",
       "      <td>73</td>\n",
       "      <td>I am a developer by profession</td>\n",
       "      <td>18-24 years old</td>\n",
       "      <td>Employed, full-time;Student, full-time;Indepen...</td>\n",
       "    </tr>\n",
       "    <tr>\n",
       "      <th>379</th>\n",
       "      <td>380</td>\n",
       "      <td>I am a developer by profession</td>\n",
       "      <td>35-44 years old</td>\n",
       "      <td>Employed, full-time</td>\n",
       "    </tr>\n",
       "    <tr>\n",
       "      <th>389</th>\n",
       "      <td>390</td>\n",
       "      <td>I am a developer by profession</td>\n",
       "      <td>25-34 years old</td>\n",
       "      <td>Employed, full-time;Student, part-time</td>\n",
       "    </tr>\n",
       "  </tbody>\n",
       "</table>\n",
       "</div>"
      ],
      "text/plain": [
       "     ResponseId                      MainBranch              Age  \\\n",
       "72           73  I am a developer by profession  18-24 years old   \n",
       "379         380  I am a developer by profession  35-44 years old   \n",
       "389         390  I am a developer by profession  25-34 years old   \n",
       "\n",
       "                                            Employment  \n",
       "72   Employed, full-time;Student, full-time;Indepen...  \n",
       "379                                Employed, full-time  \n",
       "389             Employed, full-time;Student, part-time  "
      ]
     },
     "execution_count": 546,
     "metadata": {},
     "output_type": "execute_result"
    }
   ],
   "source": [
    "stack_df.iloc[0:3,0:4]"
   ]
  },
  {
   "cell_type": "code",
   "execution_count": null,
   "id": "659bb009-b796-414f-ad16-5bf26100cca2",
   "metadata": {},
   "outputs": [],
   "source": []
  },
  {
   "cell_type": "code",
   "execution_count": 348,
   "id": "41fcae7d-f6ee-4d59-807b-21db70ec9151",
   "metadata": {},
   "outputs": [],
   "source": [
    "stack_df= pd.read_csv('survey_results_public.csv')\n"
   ]
  },
  {
   "cell_type": "code",
   "execution_count": 350,
   "id": "05679060-b64d-435d-ad70-5ddc288604fd",
   "metadata": {},
   "outputs": [],
   "source": [
    "Total_responds=stack_df['LanguageHaveWorkedWith'].notna().sum()\n",
    "Python_usernumbers=stack_df['LanguageHaveWorkedWith'].dropna().transform(lambda x: 'Python' in x.split(';')).sum()"
   ]
  },
  {
   "cell_type": "code",
   "execution_count": 351,
   "id": "781770e7-c8fc-43e9-9380-067c3651147a",
   "metadata": {},
   "outputs": [
    {
     "name": "stdout",
     "output_type": "stream",
     "text": [
      "59745\n",
      "30719\n",
      "51.416854966942836\n"
     ]
    }
   ],
   "source": [
    "print(Total_responds)\n",
    "print(Python_usernumbers)\n",
    "print(Python_usernumbers/Total_responds* 100)"
   ]
  },
  {
   "cell_type": "markdown",
   "id": "bc3f46e3-c26f-40b3-affa-31835be40fa9",
   "metadata": {},
   "source": [
    "## 5)yüzde 51 python ile program yapıyor"
   ]
  },
  {
   "cell_type": "code",
   "execution_count": null,
   "id": "703965d7-bc55-4e7e-b299-b5ebee30bebf",
   "metadata": {},
   "outputs": [],
   "source": []
  },
  {
   "cell_type": "code",
   "execution_count": 345,
   "id": "a95c32ab-532b-4868-a43f-fb0b28a2a55a",
   "metadata": {},
   "outputs": [],
   "source": [
    "stack_df= pd.read_csv('survey_results_public.csv')"
   ]
  },
  {
   "cell_type": "code",
   "execution_count": 346,
   "id": "da8abe3d-9071-4b40-a869-feaf280318b1",
   "metadata": {},
   "outputs": [],
   "source": [
    "learncode= stack_df['LearnCode'].dropna()\n",
    "Online_users= learncode.transform(lambda x: 'Online Courses or Certification' in x).sum()"
   ]
  },
  {
   "cell_type": "code",
   "execution_count": 347,
   "id": "4868b8d6-959c-4729-a3f2-0974b1d1c8e1",
   "metadata": {},
   "outputs": [
    {
     "data": {
      "text/plain": [
       "30271"
      ]
     },
     "execution_count": 347,
     "metadata": {},
     "output_type": "execute_result"
    }
   ],
   "source": [
    "Online_users"
   ]
  },
  {
   "cell_type": "markdown",
   "id": "96a91a41-990f-4faa-89d1-f11f45ee5c03",
   "metadata": {},
   "source": [
    "## 6) toplam 30271 kişi online kurs ile programlama öğrendi"
   ]
  },
  {
   "cell_type": "code",
   "execution_count": null,
   "id": "90729c08-b43a-407c-a262-96570e4be597",
   "metadata": {},
   "outputs": [],
   "source": []
  },
  {
   "cell_type": "code",
   "execution_count": null,
   "id": "54325e33-4588-41ff-ac97-9a1bc077e46d",
   "metadata": {},
   "outputs": [],
   "source": []
  },
  {
   "cell_type": "code",
   "execution_count": 243,
   "id": "27afd391-867d-4a78-80f2-bc88be7a9388",
   "metadata": {},
   "outputs": [],
   "source": [
    "stack_df= pd.read_csv('survey_results_public.csv')"
   ]
  },
  {
   "cell_type": "code",
   "execution_count": 244,
   "id": "a2d68b2c-8fbf-4607-a1e9-95b47c8f0a57",
   "metadata": {},
   "outputs": [],
   "source": [
    "usernumbers_nona_df=stack_df[['Country','ConvertedCompYearly','LanguageHaveWorkedWith']].dropna()\n"
   ]
  },
  {
   "cell_type": "code",
   "execution_count": 340,
   "id": "7524535e-a28d-47ac-9cce-7ce0c04c96ea",
   "metadata": {},
   "outputs": [],
   "source": [
    "Python_user_df = usernumbers_nona_df[usernumbers_nona_df['LanguageHaveWorkedWith'].transform(lambda x: 'Python' in x.split(';'))]"
   ]
  },
  {
   "cell_type": "code",
   "execution_count": 341,
   "id": "a28bbed9-0002-4bc0-bf9e-dc3cfbcbe9cb",
   "metadata": {},
   "outputs": [],
   "source": [
    "group_country= Python_user_df.groupby('Country')['ConvertedCompYearly'].mean()"
   ]
  },
  {
   "cell_type": "code",
   "execution_count": 342,
   "id": "374f042b-916c-46c7-8d46-a38dab2dda70",
   "metadata": {},
   "outputs": [],
   "source": [
    "group_country= Python_user_df.groupby('Country')['ConvertedCompYearly'].agg(['mean','median'])"
   ]
  },
  {
   "cell_type": "code",
   "execution_count": 343,
   "id": "b817c3d7-27b7-45ce-a76c-6793229c2d46",
   "metadata": {},
   "outputs": [],
   "source": [
    "group_country_sorted = group_country.sort_index(ascending=True)"
   ]
  },
  {
   "cell_type": "code",
   "execution_count": 344,
   "id": "aa93f2df-1f82-40dd-92ca-c9be05734cfa",
   "metadata": {},
   "outputs": [
    {
     "name": "stdout",
     "output_type": "stream",
     "text": [
      "                      mean    median\n",
      "Country                             \n",
      "Afghanistan    6057.000000    5940.0\n",
      "Albania       56295.000000   56295.0\n",
      "Algeria        9053.285714    6230.0\n",
      "Andorra      193331.000000  193331.0\n",
      "Angola            6.000000       6.0\n",
      "Argentina     41243.333333   24000.0\n",
      "Armenia       17329.666667    6450.0\n"
     ]
    }
   ],
   "source": [
    "print(group_country_sorted.head(7))"
   ]
  },
  {
   "cell_type": "markdown",
   "id": "9c99a3a8-f792-4f00-8a8d-736223d16b78",
   "metadata": {},
   "source": [
    "## 7) Her ülke için ortalama ve medyan yıllık tazminat (ConvertedCompYearly) "
   ]
  },
  {
   "cell_type": "code",
   "execution_count": null,
   "id": "0781b276-8575-4683-b81d-e84d2c499ff6",
   "metadata": {},
   "outputs": [],
   "source": []
  },
  {
   "cell_type": "code",
   "execution_count": 366,
   "id": "58c9f434-954e-4ecd-a63d-ef379a589447",
   "metadata": {},
   "outputs": [],
   "source": [
    "stack_df= pd.read_csv('survey_results_public.csv')"
   ]
  },
  {
   "cell_type": "code",
   "execution_count": 387,
   "id": "14772774-b2dd-47a6-8208-050f368e15a2",
   "metadata": {},
   "outputs": [],
   "source": [
    "stack_df.dropna(subset=[\"CompTotal\",\"EdLevel\"], inplace=True)"
   ]
  },
  {
   "cell_type": "code",
   "execution_count": 388,
   "id": "33358944-afd2-41ad-80d0-601376107283",
   "metadata": {},
   "outputs": [],
   "source": [
    "max_5 = stack_df.nlargest(5,'CompTotal')[['CompTotal', 'EdLevel']]"
   ]
  },
  {
   "cell_type": "code",
   "execution_count": null,
   "id": "0681c97a-7dfe-4343-b3f0-b5e73ed76ca5",
   "metadata": {},
   "outputs": [],
   "source": [
    "max_5 = stack_df.nlargest(5, 'CompTotal')[['CompTotal', 'EdLevel']]"
   ]
  },
  {
   "cell_type": "code",
   "execution_count": 389,
   "id": "09a78aa0-9432-4628-a0ef-8539139f655e",
   "metadata": {},
   "outputs": [
    {
     "data": {
      "text/html": [
       "<div>\n",
       "<style scoped>\n",
       "    .dataframe tbody tr th:only-of-type {\n",
       "        vertical-align: middle;\n",
       "    }\n",
       "\n",
       "    .dataframe tbody tr th {\n",
       "        vertical-align: top;\n",
       "    }\n",
       "\n",
       "    .dataframe thead th {\n",
       "        text-align: right;\n",
       "    }\n",
       "</style>\n",
       "<table border=\"1\" class=\"dataframe\">\n",
       "  <thead>\n",
       "    <tr style=\"text-align: right;\">\n",
       "      <th></th>\n",
       "      <th>CompTotal</th>\n",
       "      <th>EdLevel</th>\n",
       "    </tr>\n",
       "  </thead>\n",
       "  <tbody>\n",
       "    <tr>\n",
       "      <th>14354</th>\n",
       "      <td>1.000000e+150</td>\n",
       "      <td>Bachelor’s degree (B.A., B.S., B.Eng., etc.)</td>\n",
       "    </tr>\n",
       "    <tr>\n",
       "      <th>34278</th>\n",
       "      <td>1.000000e+65</td>\n",
       "      <td>Something else</td>\n",
       "    </tr>\n",
       "    <tr>\n",
       "      <th>17374</th>\n",
       "      <td>1.000000e+53</td>\n",
       "      <td>Bachelor’s degree (B.A., B.S., B.Eng., etc.)</td>\n",
       "    </tr>\n",
       "    <tr>\n",
       "      <th>8814</th>\n",
       "      <td>1.000000e+44</td>\n",
       "      <td>Professional degree (JD, MD, Ph.D, Ed.D, etc.)</td>\n",
       "    </tr>\n",
       "    <tr>\n",
       "      <th>20037</th>\n",
       "      <td>8.000000e+27</td>\n",
       "      <td>Professional degree (JD, MD, Ph.D, Ed.D, etc.)</td>\n",
       "    </tr>\n",
       "  </tbody>\n",
       "</table>\n",
       "</div>"
      ],
      "text/plain": [
       "           CompTotal                                         EdLevel\n",
       "14354  1.000000e+150    Bachelor’s degree (B.A., B.S., B.Eng., etc.)\n",
       "34278   1.000000e+65                                  Something else\n",
       "17374   1.000000e+53    Bachelor’s degree (B.A., B.S., B.Eng., etc.)\n",
       "8814    1.000000e+44  Professional degree (JD, MD, Ph.D, Ed.D, etc.)\n",
       "20037   8.000000e+27  Professional degree (JD, MD, Ph.D, Ed.D, etc.)"
      ]
     },
     "execution_count": 389,
     "metadata": {},
     "output_type": "execute_result"
    }
   ],
   "source": [
    "max_5"
   ]
  },
  {
   "cell_type": "markdown",
   "id": "457511b0-9010-4c0e-b618-18f9da631937",
   "metadata": {},
   "source": [
    "## 8) En yüksek katılıma sahip 5 katılımcının Eğitim seviyesi"
   ]
  },
  {
   "cell_type": "code",
   "execution_count": null,
   "id": "6a31a92e-d004-42d8-b841-2f10c8ae18be",
   "metadata": {},
   "outputs": [],
   "source": [
    "\n"
   ]
  },
  {
   "cell_type": "code",
   "execution_count": null,
   "id": "38df7279-2891-4b36-8191-fe343cf72fda",
   "metadata": {},
   "outputs": [],
   "source": []
  },
  {
   "cell_type": "markdown",
   "id": "f1497d0f-f1eb-4c1d-82df-5ba556f626db",
   "metadata": {},
   "source": [
    "## Bonus 1)"
   ]
  },
  {
   "cell_type": "code",
   "execution_count": 606,
   "id": "88f7ac82-8bd3-4b67-a179-37e720301e7b",
   "metadata": {},
   "outputs": [],
   "source": [
    "stack_df= pd.read_csv('survey_results_public.csv')"
   ]
  },
  {
   "cell_type": "code",
   "execution_count": 607,
   "id": "f85bbb89-b61b-4e96-9913-93c011105c45",
   "metadata": {},
   "outputs": [],
   "source": [
    "n_df = stack_df[['Age', 'LanguageHaveWorkedWith']].dropna()"
   ]
  },
  {
   "cell_type": "code",
   "execution_count": 608,
   "id": "6a237855-a97b-4e0c-a6b3-a967d39095f7",
   "metadata": {},
   "outputs": [],
   "source": [
    "Total_responds=stack_df['LanguageHaveWorkedWith'].notna().sum()\n",
    "n_df = n_df[n_df['LanguageHaveWorkedWith'].apply(lambda x:'Python' in x.split(';'))]"
   ]
  },
  {
   "cell_type": "code",
   "execution_count": 609,
   "id": "9a2f144e-957a-4404-afae-d98a10cf0536",
   "metadata": {},
   "outputs": [],
   "source": [
    "python_user= n_df.groupby('Age').size()"
   ]
  },
  {
   "cell_type": "code",
   "execution_count": 610,
   "id": "89dd4cf7-7b16-4cb2-a587-8485e2fab927",
   "metadata": {},
   "outputs": [
    {
     "name": "stdout",
     "output_type": "stream",
     "text": [
      "Age\n",
      "18-24 years old       13.169303\n",
      "25-34 years old       18.289397\n",
      "35-44 years old       10.357352\n",
      "45-54 years old        4.370240\n",
      "55-64 years old        1.734036\n",
      "65 years or older      0.482049\n",
      "Prefer not to say      0.242698\n",
      "Under 18 years old     2.771780\n",
      "dtype: float64\n"
     ]
    }
   ],
   "source": [
    "print(python_user/ Total_responds*100)"
   ]
  },
  {
   "cell_type": "code",
   "execution_count": null,
   "id": "39e001ec-b599-4c4d-b4e8-c24518b90b5d",
   "metadata": {},
   "outputs": [],
   "source": []
  },
  {
   "cell_type": "markdown",
   "id": "507a2aa6-ec09-414c-a748-083cecfc1643",
   "metadata": {},
   "source": [
    "##  Bonus 2) "
   ]
  },
  {
   "cell_type": "code",
   "execution_count": 611,
   "id": "9716c934-5082-412f-a2c7-09948bfc54c9",
   "metadata": {},
   "outputs": [],
   "source": [
    "stack_df= pd.read_csv('survey_results_public.csv')"
   ]
  },
  {
   "cell_type": "code",
   "execution_count": 612,
   "id": "237a6f37-bfd1-4f9a-be12-b095bd11d56f",
   "metadata": {},
   "outputs": [],
   "source": [
    "stack_df= stack_df.dropna(subset=[\"RemoteWork\",\"ConvertedCompYearly\",\"Industry\"])"
   ]
  },
  {
   "cell_type": "code",
   "execution_count": 613,
   "id": "e0f130bf-f505-4769-9d4f-24b98a6acdb4",
   "metadata": {},
   "outputs": [],
   "source": [
    "quarter_df =stack_df[(stack_df['ConvertedCompYearly']>= stack_df[\"ConvertedCompYearly\"].quantile(0.75)) & (stack_df['RemoteWork'] =='Remote')]"
   ]
  },
  {
   "cell_type": "code",
   "execution_count": 614,
   "id": "8e1c4b0a-ce50-4ab8-9399-b147e5bc23e1",
   "metadata": {},
   "outputs": [
    {
     "name": "stdout",
     "output_type": "stream",
     "text": [
      "Industry\n",
      "Software Development                          767\n",
      "Other:                                        238\n",
      "Healthcare                                    156\n",
      "Fintech                                       155\n",
      "Internet, Telecomm or Information Services    144\n",
      "Retail and Consumer Services                  106\n",
      "Media & Advertising Services                  102\n",
      "Banking/Financial Services                     69\n",
      "Name: count, dtype: int64\n"
     ]
    }
   ],
   "source": [
    "print(quarter_df[\"Industry\"].value_counts().head(8))"
   ]
  },
  {
   "cell_type": "code",
   "execution_count": null,
   "id": "5efb6d21-a6d1-4a38-b3ce-42e3cc73e16d",
   "metadata": {},
   "outputs": [],
   "source": []
  },
  {
   "cell_type": "code",
   "execution_count": null,
   "id": "179abaa2-8fb4-44ce-ac2f-b45837b36112",
   "metadata": {},
   "outputs": [],
   "source": []
  }
 ],
 "metadata": {
  "kernelspec": {
   "display_name": "Python [conda env:base] *",
   "language": "python",
   "name": "conda-base-py"
  },
  "language_info": {
   "codemirror_mode": {
    "name": "ipython",
    "version": 3
   },
   "file_extension": ".py",
   "mimetype": "text/x-python",
   "name": "python",
   "nbconvert_exporter": "python",
   "pygments_lexer": "ipython3",
   "version": "3.12.7"
  }
 },
 "nbformat": 4,
 "nbformat_minor": 5
}
